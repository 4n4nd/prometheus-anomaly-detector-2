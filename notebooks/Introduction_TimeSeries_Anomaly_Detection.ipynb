{
 "cells": [
  {
   "cell_type": "markdown",
   "metadata": {},
   "source": [
    "# Prometheus Anomaly Detection\n",
    "This notebook will give an introduction to how we can perform anomaly detection for Prometheus metrics using a machine learning time series forecasting model. \n",
    "\n",
    "## What is an anomaly?\n",
    "Prometheus is the chosen application to do monitoring across multiple products and platforms. Prometheus metrics are time series data identified by metric name and key/value pairs. With the increased amount of metrics flowing in it is getting harder to see the signals within the noise. The current state of the art is to graph out metrics on dashboards and alert on thresholds. However, we can leverage machine learning algorithms to perform time series forecasting and predict an unusual behavior or pattern in the metrics. The predicted values from the model can be compared with the actual metric values and if they differ from the default threshold values, we can flag it as an anomaly.\n",
    "\n",
    "The notebook will walk through the essential steps required for training a machine learning model to predict anomalies on a sample Prometheus time series metrics data set:\n",
    "\n",
    "## Data Prepration\n",
    "* Load sample metric data set (Json)\n",
    "* Convert the raw metric data into suitable pandas dataframe using the Prometheus API client\n",
    "* Compress the timeseries into suitable (1h/ 0.5h/ 0.25/) frequency for training the model\n",
    "\n",
    "## Data Modelling\n",
    "* Train a ML model with the required hyperparameters\n",
    "* Forecast the predictions on a test data set\n",
    "* Evaluate the predictions for detecting anomalies"
   ]
  },
  {
   "cell_type": "markdown",
   "metadata": {},
   "source": [
    "Let's install the required packages/modules"
   ]
  },
  {
   "cell_type": "code",
   "execution_count": 373,
   "metadata": {},
   "outputs": [
    {
     "name": "stdout",
     "output_type": "stream",
     "text": [
      "Requirement already satisfied: prometheus-api-client in /home/hemaveeradhi/.local/lib/python3.7/site-packages (0.0.2b4)\n",
      "Requirement already satisfied: pandas in /usr/local/lib64/python3.7/site-packages (from prometheus-api-client) (0.24.1)\n",
      "Requirement already satisfied: dateparser in /home/hemaveeradhi/.local/lib/python3.7/site-packages (from prometheus-api-client) (0.7.1)\n",
      "Requirement already satisfied: retrying in /home/hemaveeradhi/.local/lib/python3.7/site-packages (from prometheus-api-client) (1.3.3)\n",
      "Requirement already satisfied: requests in /usr/lib/python3.7/site-packages (from prometheus-api-client) (2.21.0)\n",
      "Requirement already satisfied: pytz>=2011k in /usr/lib/python3.7/site-packages (from pandas->prometheus-api-client) (2018.5)\n",
      "Requirement already satisfied: python-dateutil>=2.5.0 in /usr/lib/python3.7/site-packages (from pandas->prometheus-api-client) (2.8.0)\n",
      "Requirement already satisfied: numpy>=1.12.0 in /home/hemaveeradhi/.local/lib/python3.7/site-packages (from pandas->prometheus-api-client) (1.16.1)\n",
      "Requirement already satisfied: tzlocal in /home/hemaveeradhi/.local/lib/python3.7/site-packages (from dateparser->prometheus-api-client) (1.5.1)\n",
      "Requirement already satisfied: regex in /home/hemaveeradhi/.local/lib/python3.7/site-packages (from dateparser->prometheus-api-client) (2019.3.12)\n",
      "Requirement already satisfied: six>=1.7.0 in /home/hemaveeradhi/.local/lib/python3.7/site-packages (from retrying->prometheus-api-client) (1.12.0)\n",
      "Requirement already satisfied: chardet<3.1.0,>=3.0.2 in /usr/lib/python3.7/site-packages (from requests->prometheus-api-client) (3.0.4)\n",
      "Requirement already satisfied: idna<2.9,>=2.5 in /usr/lib/python3.7/site-packages (from requests->prometheus-api-client) (2.7)\n",
      "Requirement already satisfied: urllib3<1.25,>=1.21.1 in /usr/lib/python3.7/site-packages (from requests->prometheus-api-client) (1.24.2)\n"
     ]
    }
   ],
   "source": [
    "!pip3 install prometheus-api-client"
   ]
  },
  {
   "cell_type": "code",
   "execution_count": 374,
   "metadata": {},
   "outputs": [],
   "source": [
    "import os\n",
    "import time\n",
    "import random\n",
    "import warnings\n",
    "import numpy as np\n",
    "import matplotlib.pyplot as plt\n",
    "import math\n",
    "\n",
    "import json as JS\n",
    "from json import load\n",
    "from json import loads\n",
    "from datetime import datetime\n",
    "#from fbprophet import Prophet\n",
    "\n",
    "from pmdarima.arima import auto_arima\n",
    "import statsmodels.api as sm\n",
    "import mlflow\n",
    "import mlflow.sklearn\n",
    "from itertools import product\n",
    "\n",
    "from statsmodels.tsa.stattools import adfuller\n",
    "from statsmodels.tsa.seasonal import seasonal_decompose\n",
    "from statsmodels.tsa.arima_model import ARIMA\n",
    "from statsmodels.tsa.statespace.sarimax import SARIMAX\n",
    "from statsmodels.graphics.tsaplots import plot_acf, plot_pacf\n",
    "from sklearn.model_selection import train_test_split\n",
    "from sklearn.metrics import mean_squared_error\n",
    "\n",
    "import pandas as pd\n",
    "from pandas.io.json import json_normalize\n",
    "from pandas.plotting import autocorrelation_plot\n",
    "from pandas.plotting import register_matplotlib_converters\n",
    "from prometheus_api_client import Metric, MetricsList, PrometheusConnect\n",
    "from prometheus_api_client.utils import parse_datetime, parse_timedelta"
   ]
  },
  {
   "cell_type": "markdown",
   "metadata": {},
   "source": [
    "## Data Preparation"
   ]
  },
  {
   "cell_type": "markdown",
   "metadata": {},
   "source": [
    "### Load and Explore Time Series Data"
   ]
  },
  {
   "cell_type": "markdown",
   "metadata": {},
   "source": [
    "The dataset we will be using are Prometheus read/write metrics collected from a Dgraph application. Prometheus is an open source application monitoring tool that has a time series database for storing time series metrics. Each metric is associated with a timestamp and a corresponding value. Every metric consists of a metric name and additional labels which provide more details about the metric. For eg: http_requests_total{job=\"apiserver\", handler=\"/api/comments\"}\n",
    "   - **Metric Name**: *http_requests_total*\n",
    "   - **Labels**: *{job=\"apiserver\", handler=\"/api/comments\"}*"
   ]
  },
  {
   "cell_type": "markdown",
   "metadata": {},
   "source": [
    "Here we are loading the dataset that containes the past 90 days of disk write metrics."
   ]
  },
  {
   "cell_type": "code",
   "execution_count": 379,
   "metadata": {},
   "outputs": [],
   "source": [
    "raw_data = pd.read_json(\"metrics/prometheus-route-aiops-prod-prometheus-predict.cloud.paas.psi.redhat.com/badger_disk_writes:rate1m/90 days of data/201910081557.json\")"
   ]
  },
  {
   "cell_type": "code",
   "execution_count": 380,
   "metadata": {},
   "outputs": [
    {
     "data": {
      "text/html": [
       "<div>\n",
       "<style scoped>\n",
       "    .dataframe tbody tr th:only-of-type {\n",
       "        vertical-align: middle;\n",
       "    }\n",
       "\n",
       "    .dataframe tbody tr th {\n",
       "        vertical-align: top;\n",
       "    }\n",
       "\n",
       "    .dataframe thead th {\n",
       "        text-align: right;\n",
       "    }\n",
       "</style>\n",
       "<table border=\"1\" class=\"dataframe\">\n",
       "  <thead>\n",
       "    <tr style=\"text-align: right;\">\n",
       "      <th></th>\n",
       "      <th>metric</th>\n",
       "      <th>values</th>\n",
       "    </tr>\n",
       "  </thead>\n",
       "  <tbody>\n",
       "    <tr>\n",
       "      <th>0</th>\n",
       "      <td>{'__name__': 'badger_disk_writes:rate1m', 'ae_...</td>\n",
       "      <td>[[1562788680.825, 0], [1562788740.825, 0], [15...</td>\n",
       "    </tr>\n",
       "    <tr>\n",
       "      <th>1</th>\n",
       "      <td>{'__name__': 'badger_disk_writes:rate1m', 'ae_...</td>\n",
       "      <td>[[1562788680.825, 0], [1562788740.825, 0], [15...</td>\n",
       "    </tr>\n",
       "    <tr>\n",
       "      <th>2</th>\n",
       "      <td>{'__name__': 'badger_disk_writes:rate1m', 'ae_...</td>\n",
       "      <td>[[1562788680.825, 0], [1562788740.825, 0], [15...</td>\n",
       "    </tr>\n",
       "    <tr>\n",
       "      <th>3</th>\n",
       "      <td>{'__name__': 'badger_disk_writes:rate1m', 'ae_...</td>\n",
       "      <td>[[1562788680.825, 0], [1562788740.825, 0], [15...</td>\n",
       "    </tr>\n",
       "    <tr>\n",
       "      <th>4</th>\n",
       "      <td>{'__name__': 'badger_disk_writes:rate1m', 'ae_...</td>\n",
       "      <td>[[1565236860.825, 0], [1565236920.825, 0], [15...</td>\n",
       "    </tr>\n",
       "  </tbody>\n",
       "</table>\n",
       "</div>"
      ],
      "text/plain": [
       "                                              metric  \\\n",
       "0  {'__name__': 'badger_disk_writes:rate1m', 'ae_...   \n",
       "1  {'__name__': 'badger_disk_writes:rate1m', 'ae_...   \n",
       "2  {'__name__': 'badger_disk_writes:rate1m', 'ae_...   \n",
       "3  {'__name__': 'badger_disk_writes:rate1m', 'ae_...   \n",
       "4  {'__name__': 'badger_disk_writes:rate1m', 'ae_...   \n",
       "\n",
       "                                              values  \n",
       "0  [[1562788680.825, 0], [1562788740.825, 0], [15...  \n",
       "1  [[1562788680.825, 0], [1562788740.825, 0], [15...  \n",
       "2  [[1562788680.825, 0], [1562788740.825, 0], [15...  \n",
       "3  [[1562788680.825, 0], [1562788740.825, 0], [15...  \n",
       "4  [[1565236860.825, 0], [1565236920.825, 0], [15...  "
      ]
     },
     "execution_count": 380,
     "metadata": {},
     "output_type": "execute_result"
    }
   ],
   "source": [
    "#display the first few lines of the data\n",
    "raw_data.head()"
   ]
  },
  {
   "cell_type": "markdown",
   "metadata": {},
   "source": [
    "Let's understand the structure of the `data`"
   ]
  },
  {
   "cell_type": "code",
   "execution_count": 381,
   "metadata": {},
   "outputs": [
    {
     "name": "stdout",
     "output_type": "stream",
     "text": [
      "<class 'pandas.core.frame.DataFrame'>\n",
      "12\n"
     ]
    }
   ],
   "source": [
    "print(type(raw_data))\n",
    "print(len(raw_data))"
   ]
  },
  {
   "cell_type": "markdown",
   "metadata": {},
   "source": [
    "### Data Pre-Processing"
   ]
  },
  {
   "cell_type": "markdown",
   "metadata": {},
   "source": [
    "The raw data obtained from Prometheus is not very easy to understand nor is a suitable input for a machine learning model. To convert this raw data into an easier format we will make use of the Prometheus API Client.\n",
    "\n",
    "The Prometheus API client has a `MetricsList` object that creates a list of `Metric` objects, where each object is unique for a specific time-series. You can find more details about this here: https://prometheus-api-client-python.readthedocs.io/source/prometheus_api_client.html"
   ]
  },
  {
   "cell_type": "markdown",
   "metadata": {},
   "source": [
    "We will first convert the raw data into a `list` format as this is the input type required by the `MetricsList` function."
   ]
  },
  {
   "cell_type": "code",
   "execution_count": 384,
   "metadata": {},
   "outputs": [],
   "source": [
    "metric_data = raw_data.to_dict('records')"
   ]
  },
  {
   "cell_type": "code",
   "execution_count": 385,
   "metadata": {},
   "outputs": [
    {
     "data": {
      "text/plain": [
       "list"
      ]
     },
     "execution_count": 385,
     "metadata": {},
     "output_type": "execute_result"
    }
   ],
   "source": [
    "type(metric_data)"
   ]
  },
  {
   "cell_type": "markdown",
   "metadata": {},
   "source": [
    "Now we can intitalize a `MetricsList` object."
   ]
  },
  {
   "cell_type": "code",
   "execution_count": 386,
   "metadata": {},
   "outputs": [],
   "source": [
    "metrics_object_list = MetricsList(metric_data)"
   ]
  },
  {
   "cell_type": "code",
   "execution_count": 387,
   "metadata": {},
   "outputs": [
    {
     "name": "stdout",
     "output_type": "stream",
     "text": [
      "12\n",
      "<class 'prometheus_api_client.metrics_list.MetricsList'>\n"
     ]
    }
   ],
   "source": [
    "print(len(metrics_object_list))\n",
    "print(type(metrics_object_list))"
   ]
  },
  {
   "cell_type": "markdown",
   "metadata": {},
   "source": [
    "Let's look at one of the items in this `MetricsList` object created."
   ]
  },
  {
   "cell_type": "code",
   "execution_count": 388,
   "metadata": {},
   "outputs": [
    {
     "name": "stdout",
     "output_type": "stream",
     "text": [
      "{\n",
      "metric_name: 'badger_disk_writes:rate1m'\n",
      "label_config: {'ae_source': 'http://prometheus-exporter-zero-0.thoth-dgraph-stage.svc:8080/debug/prometheus_metrics', 'instance': 'prometheus-aggregate-exporter-thoth-dgraph-stage.cloud.paas.psi.redhat.com:80', 'job': 'Thoth Dgraph aggregate-exporter (stage)', 'monitor': 'datahub'}\n",
      "metric_values:                                   ds    y\n",
      "0      2019-07-10 19:58:00.825000048  0.0\n",
      "1      2019-07-10 19:59:00.825000048  0.0\n",
      "2      2019-07-10 20:00:00.825000048  0.0\n",
      "3      2019-07-10 20:01:00.825000048  1.7\n",
      "4      2019-07-10 20:02:00.825000048  0.0\n",
      "5      2019-07-10 20:03:00.825000048  0.0\n",
      "6      2019-07-10 20:04:00.825000048  0.0\n",
      "7      2019-07-10 20:05:00.825000048  0.0\n",
      "8      2019-07-10 20:06:00.825000048  0.0\n",
      "9      2019-07-10 20:07:00.825000048  0.0\n",
      "10     2019-07-10 20:08:00.825000048  0.0\n",
      "11     2019-07-10 20:09:00.825000048  0.0\n",
      "12     2019-07-10 20:10:00.825000048  0.0\n",
      "13     2019-07-10 20:11:00.825000048  0.0\n",
      "14     2019-07-10 20:12:00.825000048  0.0\n",
      "15     2019-07-10 20:13:00.825000048  0.0\n",
      "16     2019-07-10 20:14:00.825000048  0.0\n",
      "17     2019-07-10 20:15:00.825000048  0.0\n",
      "18     2019-07-10 20:16:00.825000048  0.0\n",
      "19     2019-07-10 20:17:00.825000048  0.0\n",
      "20     2019-07-10 20:18:00.825000048  0.0\n",
      "21     2019-07-10 20:19:00.825000048  0.0\n",
      "22     2019-07-10 20:20:00.825000048  0.0\n",
      "23     2019-07-10 20:21:00.825000048  0.0\n",
      "24     2019-07-10 20:22:00.825000048  0.0\n",
      "25     2019-07-10 20:23:00.825000048  0.0\n",
      "26     2019-07-10 20:24:00.825000048  0.0\n",
      "27     2019-07-10 20:25:00.825000048  0.0\n",
      "28     2019-07-10 20:26:00.825000048  0.0\n",
      "29     2019-07-10 20:27:00.825000048  0.0\n",
      "...                              ...  ...\n",
      "110209 2019-09-25 12:49:00.825000048  0.0\n",
      "110210 2019-09-25 12:50:00.825000048  0.0\n",
      "110211 2019-09-25 12:51:00.825000048  0.0\n",
      "110212 2019-09-25 12:52:00.825000048  0.0\n",
      "110213 2019-09-25 12:53:00.825000048  0.0\n",
      "110214 2019-09-25 12:54:00.825000048  0.0\n",
      "110215 2019-09-25 12:55:00.825000048  0.0\n",
      "110216 2019-09-25 12:56:00.825000048  0.0\n",
      "110217 2019-09-25 12:57:00.825000048  0.0\n",
      "110218 2019-09-25 12:58:00.825000048  0.0\n",
      "110219 2019-09-25 12:59:00.825000048  0.0\n",
      "110220 2019-09-25 13:00:00.825000048  0.0\n",
      "110221 2019-09-25 13:01:00.825000048  0.0\n",
      "110222 2019-09-25 13:02:00.825000048  0.0\n",
      "110223 2019-09-25 13:03:00.825000048  0.0\n",
      "110224 2019-09-25 13:04:00.825000048  0.0\n",
      "110225 2019-09-25 13:05:00.825000048  0.0\n",
      "110226 2019-09-25 13:06:00.825000048  0.0\n",
      "110227 2019-09-25 13:07:00.825000048  0.0\n",
      "110228 2019-09-25 13:08:00.825000048  0.0\n",
      "110229 2019-09-25 13:09:00.825000048  0.0\n",
      "110230 2019-09-25 13:10:00.825000048  0.0\n",
      "110231 2019-09-25 13:11:00.825000048  0.0\n",
      "110232 2019-09-25 13:12:00.825000048  0.0\n",
      "110233 2019-09-25 13:13:00.825000048  0.0\n",
      "110234 2019-09-25 13:14:00.825000048  0.0\n",
      "110235 2019-09-25 13:15:00.825000048  0.0\n",
      "110236 2019-09-25 13:16:00.825000048  0.0\n",
      "110237 2019-09-25 13:17:00.825000048  0.0\n",
      "110238 2019-09-25 13:18:00.825000048  0.0\n",
      "\n",
      "[110239 rows x 2 columns]\n",
      "}\n"
     ]
    }
   ],
   "source": [
    "m = metrics_object_list[0]\n",
    "print(m)"
   ]
  },
  {
   "cell_type": "markdown",
   "metadata": {},
   "source": [
    "We see that the Metric object has the following 3 properties.\n",
    "\n",
    "They are,\n",
    "\n",
    "* **metric_name**: stores the name of the metric as a string\n",
    "\n",
    "* **label_config**: stores metric labels and values as a dict\n",
    "\n",
    "* **metric_values**: metric values as a pandas dataframe"
   ]
  },
  {
   "cell_type": "markdown",
   "metadata": {},
   "source": [
    "However, we are only interested in the `metric_values` as this contains the timestamp and its corresponding metric value for which we want to train our machine learning model. So, lets extract only the metric values...."
   ]
  },
  {
   "cell_type": "code",
   "execution_count": 391,
   "metadata": {},
   "outputs": [
    {
     "name": "stdout",
     "output_type": "stream",
     "text": [
      "<class 'pandas.core.frame.DataFrame'>\n",
      "                                  ds    y\n",
      "0      2019-07-10 19:58:00.825000048  0.0\n",
      "1      2019-07-10 19:59:00.825000048  0.0\n",
      "2      2019-07-10 20:00:00.825000048  0.0\n",
      "3      2019-07-10 20:01:00.825000048  1.7\n",
      "4      2019-07-10 20:02:00.825000048  0.0\n",
      "5      2019-07-10 20:03:00.825000048  0.0\n",
      "6      2019-07-10 20:04:00.825000048  0.0\n",
      "7      2019-07-10 20:05:00.825000048  0.0\n",
      "8      2019-07-10 20:06:00.825000048  0.0\n",
      "9      2019-07-10 20:07:00.825000048  0.0\n",
      "10     2019-07-10 20:08:00.825000048  0.0\n",
      "11     2019-07-10 20:09:00.825000048  0.0\n",
      "12     2019-07-10 20:10:00.825000048  0.0\n",
      "13     2019-07-10 20:11:00.825000048  0.0\n",
      "14     2019-07-10 20:12:00.825000048  0.0\n",
      "15     2019-07-10 20:13:00.825000048  0.0\n",
      "16     2019-07-10 20:14:00.825000048  0.0\n",
      "17     2019-07-10 20:15:00.825000048  0.0\n",
      "18     2019-07-10 20:16:00.825000048  0.0\n",
      "19     2019-07-10 20:17:00.825000048  0.0\n",
      "20     2019-07-10 20:18:00.825000048  0.0\n",
      "21     2019-07-10 20:19:00.825000048  0.0\n",
      "22     2019-07-10 20:20:00.825000048  0.0\n",
      "23     2019-07-10 20:21:00.825000048  0.0\n",
      "24     2019-07-10 20:22:00.825000048  0.0\n",
      "25     2019-07-10 20:23:00.825000048  0.0\n",
      "26     2019-07-10 20:24:00.825000048  0.0\n",
      "27     2019-07-10 20:25:00.825000048  0.0\n",
      "28     2019-07-10 20:26:00.825000048  0.0\n",
      "29     2019-07-10 20:27:00.825000048  0.0\n",
      "...                              ...  ...\n",
      "110209 2019-09-25 12:49:00.825000048  0.0\n",
      "110210 2019-09-25 12:50:00.825000048  0.0\n",
      "110211 2019-09-25 12:51:00.825000048  0.0\n",
      "110212 2019-09-25 12:52:00.825000048  0.0\n",
      "110213 2019-09-25 12:53:00.825000048  0.0\n",
      "110214 2019-09-25 12:54:00.825000048  0.0\n",
      "110215 2019-09-25 12:55:00.825000048  0.0\n",
      "110216 2019-09-25 12:56:00.825000048  0.0\n",
      "110217 2019-09-25 12:57:00.825000048  0.0\n",
      "110218 2019-09-25 12:58:00.825000048  0.0\n",
      "110219 2019-09-25 12:59:00.825000048  0.0\n",
      "110220 2019-09-25 13:00:00.825000048  0.0\n",
      "110221 2019-09-25 13:01:00.825000048  0.0\n",
      "110222 2019-09-25 13:02:00.825000048  0.0\n",
      "110223 2019-09-25 13:03:00.825000048  0.0\n",
      "110224 2019-09-25 13:04:00.825000048  0.0\n",
      "110225 2019-09-25 13:05:00.825000048  0.0\n",
      "110226 2019-09-25 13:06:00.825000048  0.0\n",
      "110227 2019-09-25 13:07:00.825000048  0.0\n",
      "110228 2019-09-25 13:08:00.825000048  0.0\n",
      "110229 2019-09-25 13:09:00.825000048  0.0\n",
      "110230 2019-09-25 13:10:00.825000048  0.0\n",
      "110231 2019-09-25 13:11:00.825000048  0.0\n",
      "110232 2019-09-25 13:12:00.825000048  0.0\n",
      "110233 2019-09-25 13:13:00.825000048  0.0\n",
      "110234 2019-09-25 13:14:00.825000048  0.0\n",
      "110235 2019-09-25 13:15:00.825000048  0.0\n",
      "110236 2019-09-25 13:16:00.825000048  0.0\n",
      "110237 2019-09-25 13:17:00.825000048  0.0\n",
      "110238 2019-09-25 13:18:00.825000048  0.0\n",
      "\n",
      "[110239 rows x 2 columns]\n"
     ]
    }
   ],
   "source": [
    "m_values = m.metric_values\n",
    "print(type(m_values))\n",
    "print(m_values)"
   ]
  },
  {
   "cell_type": "markdown",
   "metadata": {},
   "source": [
    "### Data Sampling\n",
    "As you can see, this data consists of metric values that are generated per **minute**, resulting in a large number of data points which may take a considerate amount of time when training the model. Hence, we will compress this data to a **daily** frequency for the purpose of this workshop."
   ]
  },
  {
   "cell_type": "code",
   "execution_count": 394,
   "metadata": {},
   "outputs": [],
   "source": [
    "freq = '1d' # Here we are setting the frequency to daily, but we can also set this to be hourly or half-hourly etc\n",
    "\n",
    "#Converting the dataframe to a single column with the timestamp column set as index\n",
    "m_values = m_values.set_index('ds')\n",
    "\n",
    "m_values = m_values.resample(freq).mean()\n",
    "m_values = m_values.dropna()"
   ]
  },
  {
   "cell_type": "markdown",
   "metadata": {},
   "source": [
    "Let's now look at the compressed data."
   ]
  },
  {
   "cell_type": "code",
   "execution_count": 395,
   "metadata": {},
   "outputs": [
    {
     "name": "stdout",
     "output_type": "stream",
     "text": [
      "78\n",
      "                    y\n",
      "ds                   \n",
      "2019-07-10   4.129030\n",
      "2019-07-11   2.707075\n",
      "2019-07-12   0.000000\n",
      "2019-07-13   0.000000\n",
      "2019-07-14   0.005729\n",
      "2019-07-15  10.461936\n",
      "2019-07-16   9.680335\n",
      "2019-07-17  30.826611\n",
      "2019-07-18  13.923609\n",
      "2019-07-19   1.681819\n",
      "2019-07-20   1.686718\n",
      "2019-07-21   1.692917\n",
      "2019-07-22   2.861460\n",
      "2019-07-23   2.128386\n",
      "2019-07-24   1.904082\n",
      "2019-07-25   3.456007\n",
      "2019-07-26   2.114877\n",
      "2019-07-27   1.675417\n",
      "2019-07-28   1.686111\n",
      "2019-07-29   2.305088\n",
      "2019-07-30   3.152909\n",
      "2019-07-31   2.579170\n",
      "2019-08-01   2.146685\n",
      "2019-08-02   2.513906\n",
      "2019-08-03   1.741598\n",
      "2019-08-04   3.052006\n",
      "2019-08-05   2.520001\n",
      "2019-08-06   2.928711\n",
      "2019-08-07   0.460608\n",
      "2019-08-08   1.848317\n",
      "...               ...\n",
      "2019-08-27   1.788355\n",
      "2019-08-28   1.787617\n",
      "2019-08-29   1.673747\n",
      "2019-08-30   1.688683\n",
      "2019-08-31   1.725212\n",
      "2019-09-01   1.712382\n",
      "2019-09-02   1.927222\n",
      "2019-09-03   1.722292\n",
      "2019-09-04   1.711245\n",
      "2019-09-05   1.689259\n",
      "2019-09-06   1.711501\n",
      "2019-09-07   1.675469\n",
      "2019-09-08   1.644861\n",
      "2019-09-09   1.655174\n",
      "2019-09-10   1.724981\n",
      "2019-09-11   1.741487\n",
      "2019-09-12   1.685489\n",
      "2019-09-13   1.678527\n",
      "2019-09-14   1.727260\n",
      "2019-09-15   1.736840\n",
      "2019-09-16   1.729479\n",
      "2019-09-17   1.703437\n",
      "2019-09-18   1.675417\n",
      "2019-09-19   3.166596\n",
      "2019-09-20   1.656285\n",
      "2019-09-21   1.698021\n",
      "2019-09-22   1.575521\n",
      "2019-09-23   1.699359\n",
      "2019-09-24   1.758809\n",
      "2019-09-25   2.996245\n",
      "\n",
      "[78 rows x 1 columns]\n"
     ]
    }
   ],
   "source": [
    "print(len(m_values))\n",
    "print(m_values)"
   ]
  },
  {
   "cell_type": "markdown",
   "metadata": {},
   "source": [
    "We now have a much smaller dataset that we can look at. For trainign any machine learning model, we need to first split the data into `training` and `testing` datasets. \n",
    "\n",
    "* **Training** - The actual dataset that we use to train the model. The model sees and learns from this data.\n",
    "* **Testing** - The sample of data used to provide an unbiased evaluation of a final model fit on the training dataset\n",
    "\n",
    "Now that you know what these datasets do, we will split the dataset into Train and Test sets. "
   ]
  },
  {
   "cell_type": "code",
   "execution_count": 408,
   "metadata": {},
   "outputs": [],
   "source": [
    "def split_data(dataframe):\n",
    "    #Dividing the data set into (80%)training and (20%)testing samples\n",
    "    dataframe = dataframe.sort_values(by = 'ds')\n",
    "    ratio = 0.2\n",
    "    size = int(len(dataframe) * (1-float(ratio)))\n",
    "    train, test = dataframe[0:size], dataframe[size:len(dataframe)]\n",
    "    return train, test"
   ]
  },
  {
   "cell_type": "code",
   "execution_count": 409,
   "metadata": {},
   "outputs": [],
   "source": [
    "train, test = split_data(m_values)"
   ]
  },
  {
   "cell_type": "code",
   "execution_count": 410,
   "metadata": {},
   "outputs": [
    {
     "name": "stdout",
     "output_type": "stream",
     "text": [
      "62\n",
      "16\n"
     ]
    }
   ],
   "source": [
    "print(len(train))\n",
    "print(len(test))"
   ]
  },
  {
   "cell_type": "markdown",
   "metadata": {},
   "source": [
    "## Data Modelling\n",
    "We are now ready to train a time seriers forecasting model. Here, we will train the SARIMA model i.e. Seasonal Auto-Regressive Moving Average model.\n",
    "\n",
    "Configuring a SARIMA requires selecting hyperparameters for both the trend and seasonal elements of the series. There are three **trend** elements that require configuration. These are the ones that are configured in the standard ARIMA model.\n",
    "\n",
    "* **p** - Trend autoregression order\n",
    "* **d** - Trend difference order\n",
    "* **q** - Trend moving average order\n",
    "\n",
    "There are four seasonal elements that are not part of ARIMA that must be configured; they are:\n",
    "\n",
    "* **P**: Seasonal autoregressive order.\n",
    "* **D**: Seasonal difference order.\n",
    "* **Q**: Seasonal moving average order.\n",
    "* **m**: The number of time steps for a single seasonal period.\n",
    "\n",
    "**Note: To make things easier for you, we have already identified the optimized parameter values required to train the model for this particular dataset.**"
   ]
  },
  {
   "cell_type": "code",
   "execution_count": 411,
   "metadata": {},
   "outputs": [],
   "source": [
    "def _sarima(train, test, freq):\n",
    "    sfrequency = 0\n",
    "    if freq == '1h':\n",
    "        sfrequency = 24\n",
    "    elif freq == '30Min':\n",
    "        sfrequency = 48\n",
    "    elif freq == '15Min':\n",
    "        sfrequency = 96\n",
    "    elif freq == '1d':\n",
    "        sfrequency = 1\n",
    "        \n",
    "    model = SARIMAX(train, order=(1, 2, 2), seasonal_order=(2,2,2,sfrequency), enforce_stationarity = True, enforce_invertibility = False)\n",
    "    model_fit = model.fit(dsip=-1)\n",
    "    residuals = pd.DataFrame(model_fit.resid)\n",
    "    residuals.plot()\n",
    "    print(\"Now plotting the residual errors for the SARIMA model\")\n",
    "    plt.show()\n",
    "    residuals.plot(kind='kde')\n",
    "    print(\"Now plotting the desity of the residual error values.\")\n",
    "    plt.show()\n",
    "    print(residuals.describe())\n",
    "    K = len(test)\n",
    "\n",
    "    forecast = model_fit.forecast(K)\n",
    "    # forecast = np.exp(forecast)\n",
    "    forecast = pd.DataFrame(forecast.values, columns = ['predict'], index = test.index)\n",
    "\n",
    "    plt.plot(forecast, label='forecast')\n",
    "    plt.show()\n",
    "    plt.figure(figsize=(12,5), dpi=100)\n",
    "    # plt.plot(train, label='training')\n",
    "    plt.plot(test, label='actual')\n",
    "    plt.plot(forecast, label='forecast')\n",
    "    # plt.title('RMSE: %.2f'% np.sqrt(sum((forecast-test)**2)/len(test)))\n",
    "    plt.legend(loc='upper left', fontsize=8)\n",
    "    plt.show()\n",
    "    return model, model_fit, forecast"
   ]
  },
  {
   "cell_type": "markdown",
   "metadata": {},
   "source": [
    "An important parameter to identify for the SARIMA model, is the **seasonality** frequency of the data. Seasonality is the presence of any predictable fluctuation or pattern that recurs/repeats over regular intervals. For example, data with daily observations might have a weekly seasonality (frequency=7) or an annual seasonality (frequency=365.25). Similarly, data that are observed every minute might have an hourly seasonality (frequency=60), a daily seasonality (frequency=24x60=1440), a weekly seasonality (frequency=24x60x7=10080) and an annual seasonality (frequency=24x60x365.25=525960).\n",
    "\n",
    "The raw data obtained from Prometheus for the disk write metric was observed every minute and had a **daily** seasonality."
   ]
  },
  {
   "cell_type": "code",
   "execution_count": 412,
   "metadata": {},
   "outputs": [
    {
     "name": "stderr",
     "output_type": "stream",
     "text": [
      "/home/hemaveeradhi/.local/lib/python3.7/site-packages/statsmodels/base/model.py:512: ConvergenceWarning: Maximum Likelihood optimization failed to converge. Check mle_retvals\n",
      "  \"Check mle_retvals\", ConvergenceWarning)\n"
     ]
    },
    {
     "name": "stdout",
     "output_type": "stream",
     "text": [
      "Now plotting the residual errors for the SARIMA model\n"
     ]
    },
    {
     "data": {
      "image/png": "[encoded data removed]",
      "text/plain": [
       "<Figure size 432x288 with 1 Axes>"
      ]
     },
     "metadata": {
      "needs_background": "light"
     },
     "output_type": "display_data"
    },
    {
     "name": "stdout",
     "output_type": "stream",
     "text": [
      "Now plotting the desity of the residual error values.\n"
     ]
    },
    {
     "data": {
      "image/png": "[encoded data removed]",
      "text/plain": [
       "<Figure size 432x288 with 1 Axes>"
      ]
     },
     "metadata": {
      "needs_background": "light"
     },
     "output_type": "display_data"
    },
    {
     "name": "stdout",
     "output_type": "stream",
     "text": [
      "               0\n",
      "count  62.000000\n",
      "mean   -0.459958\n",
      "std     7.808883\n",
      "min   -40.664493\n",
      "25%    -2.205185\n",
      "50%    -0.282247\n",
      "75%     0.559985\n",
      "max    26.365492\n"
     ]
    },
    {
     "data": {
      "image/png": "[encoded data removed]",
      "text/plain": [
       "<Figure size 432x288 with 1 Axes>"
      ]
     },
     "metadata": {
      "needs_background": "light"
     },
     "output_type": "display_data"
    },
    {
     "data": {
      "image/png": "[encoded data removed]",
      "text/plain": [
       "<Figure size 1200x500 with 1 Axes>"
      ]
     },
     "metadata": {
      "needs_background": "light"
     },
     "output_type": "display_data"
    }
   ],
   "source": [
    "freq = '1d'\n",
    "model, model_fit, forecast = _sarima(train, test, freq)"
   ]
  },
  {
   "cell_type": "markdown",
   "metadata": {},
   "source": [
    "## Model Evaluation\n",
    "Now that the model has successfully completed training, let's identify anomalies by comparing the `predicted` values with the `actual` values. To do so, we will define `upper` and `lower` bounds based on the range of predictions made by the model. If the actual metric value does not lie within these defined bounds, we will flag that as an anomaly."
   ]
  },
  {
   "cell_type": "code",
   "execution_count": 417,
   "metadata": {},
   "outputs": [],
   "source": [
    "def evaluation(forecast, test):\n",
    "    upper_bound = np.array(\n",
    "      [\n",
    "        (\n",
    "         float(np.ma.average(forecast[:i], axis = 0,weights=np.linspace(0, 1, num=len(forecast[:i]))))\n",
    "          + (np.std(forecast[:i]) * 2)\n",
    "        )\n",
    "        for i in range(len(forecast))\n",
    "        ]\n",
    "    )\n",
    "      # to account for no std of a single value\n",
    "    lower_bound = np.array(\n",
    "      [\n",
    "        (\n",
    "          float(np.ma.average(\n",
    "            forecast[:i],axis = 0,\n",
    "            weights=np.linspace(0, 1, num=len(forecast[:i])),))\n",
    "          - (np.std(forecast[:i]) * 2)\n",
    "        )\n",
    "        for i in range(len(forecast))\n",
    "        ]\n",
    "    )\n",
    "\n",
    "    compare = test.join(forecast, how = 'outer')\n",
    "    compare = compare.dropna()\n",
    "    lower = pd.DataFrame(lower_bound, columns = [0], index = test.index)\n",
    "    upper = pd.DataFrame(upper_bound, columns = [0], index = test.index)\n",
    "\n",
    "    compare.insert(2, \"LowerBound\", lower, True)\n",
    "    compare.insert(3, \"UpperBound\", upper, True)\n",
    "    compare['WithinUpperBounds'] = compare['predict'] < compare['UpperBound']\n",
    "    compare['WithinLowerBounds'] = compare['predict'] > compare['LowerBound']\n",
    "    \n",
    "    #Detecting anomalies\n",
    "    anomaly = []\n",
    "    for i in range(len(compare)):\n",
    "        if((compare['y'][i] < compare['UpperBound'][i]) and (compare['y'][i] > compare['LowerBound'][i])):\n",
    "            anomaly.append(0)\n",
    "        else:\n",
    "            anomaly.append(1)\n",
    "    \n",
    "    compare.insert(6, \"Anomaly\", anomaly, True)\n",
    "    print(\"The final dataframe with lowerbound, upperbound and prediction value:\\n\")\n",
    "    print(compare)\n",
    "\n",
    "    plt.figure(figsize=(12,5), dpi=100)\n",
    "    plt.plot(compare['predict'], label='Predicted')\n",
    "    plt.plot(compare['LowerBound'], label='LowerBound')\n",
    "    plt.plot(compare['UpperBound'], label='UpperBound')\n",
    "    plt.plot(compare['y'], label='Actual')\n",
    "    # plt.title('RMSE: %.2f'% np.sqrt(sum((forecast-test)**2)/len(test)))\n",
    "    plt.legend(loc='upper left', fontsize=8)\n",
    "    plt.show()"
   ]
  },
  {
   "cell_type": "code",
   "execution_count": 418,
   "metadata": {},
   "outputs": [
    {
     "name": "stdout",
     "output_type": "stream",
     "text": [
      "The final dataframe with lowerbound, upperbound and prediction value:\n",
      "\n",
      "                   y   predict  LowerBound  UpperBound  WithinUpperBounds  \\\n",
      "ds                                                                          \n",
      "2019-09-10  1.724981  1.527487         NaN         NaN              False   \n",
      "2019-09-11  1.741487  1.450419         NaN         NaN              False   \n",
      "2019-09-12  1.685489  1.400135    1.373352    1.527487               True   \n",
      "2019-09-13  1.678527  1.397091    1.312150    1.521642               True   \n",
      "2019-09-14  1.727260  1.414578    1.301468    1.512519               True   \n",
      "2019-09-15  1.736840  1.442162    1.312794    1.507261               True   \n",
      "2019-09-16  1.729479  1.470302    1.331922    1.509557               True   \n",
      "2019-09-17  1.703437  1.499430    1.349738    1.520061               True   \n",
      "2019-09-18  1.675417  1.532280    1.363108    1.538957               True   \n",
      "2019-09-19  3.166596  1.572549    1.371449    1.566726              False   \n",
      "2019-09-20  1.656285  1.622387    1.374908    1.604651              False   \n",
      "2019-09-21  1.698021  1.682572    1.373862    1.653918              False   \n",
      "2019-09-22  1.575521  1.752928    1.368888    1.715119              False   \n",
      "2019-09-23  1.699359  1.833079    1.360684    1.788223              False   \n",
      "2019-09-24  1.758809  1.922832    1.349899    1.872901              False   \n",
      "2019-09-25  2.996245  2.022301    1.337022    1.968826              False   \n",
      "\n",
      "            WithinLowerBounds  Anomaly  \n",
      "ds                                      \n",
      "2019-09-10              False        1  \n",
      "2019-09-11              False        1  \n",
      "2019-09-12               True        1  \n",
      "2019-09-13               True        1  \n",
      "2019-09-14               True        1  \n",
      "2019-09-15               True        1  \n",
      "2019-09-16               True        1  \n",
      "2019-09-17               True        1  \n",
      "2019-09-18               True        1  \n",
      "2019-09-19               True        1  \n",
      "2019-09-20               True        1  \n",
      "2019-09-21               True        1  \n",
      "2019-09-22               True        0  \n",
      "2019-09-23               True        0  \n",
      "2019-09-24               True        0  \n",
      "2019-09-25               True        1  \n"
     ]
    },
    {
     "name": "stderr",
     "output_type": "stream",
     "text": [
      "/home/hemaveeradhi/.local/lib/python3.7/site-packages/ipykernel_launcher.py:8: UserWarning: Warning: converting a masked element to nan.\n",
      "  \n",
      "/home/hemaveeradhi/.local/lib/python3.7/site-packages/ipykernel_launcher.py:20: UserWarning: Warning: converting a masked element to nan.\n"
     ]
    },
    {
     "data": {
      "image/png": "[encoded data removed]",
      "text/plain": [
       "<Figure size 1200x500 with 1 Axes>"
      ]
     },
     "metadata": {
      "needs_background": "light"
     },
     "output_type": "display_data"
    }
   ],
   "source": [
    "evaluation(forecast, test)"
   ]
  },
  {
   "cell_type": "code",
   "execution_count": null,
   "metadata": {},
   "outputs": [],
   "source": []
  }
 ],
 "metadata": {
  "kernelspec": {
   "display_name": "Python 3",
   "language": "python",
   "name": "python3"
  },
  "language_info": {
   "codemirror_mode": {
    "name": "ipython",
    "version": 3
   },
   "file_extension": ".py",
   "mimetype": "text/x-python",
   "name": "python",
   "nbconvert_exporter": "python",
   "pygments_lexer": "ipython3",
   "version": "3.7.3"
  }
 },
 "nbformat": 4,
 "nbformat_minor": 2
}
